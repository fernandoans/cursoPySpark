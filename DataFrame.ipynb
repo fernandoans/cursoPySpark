{
 "cells": [
  {
   "cell_type": "markdown",
   "metadata": {},
   "source": [
    "# DataFrame"
   ]
  },
  {
   "cell_type": "code",
   "execution_count": 2,
   "metadata": {},
   "outputs": [],
   "source": [
    "from pyspark.sql import SparkSession"
   ]
  },
  {
   "cell_type": "code",
   "execution_count": 3,
   "metadata": {},
   "outputs": [],
   "source": [
    "spark = SparkSession.\\\n",
    "        builder.\\\n",
    "        appName(\"pyspark-notebook\").\\\n",
    "        master(\"spark://spark-master:7077\").\\\n",
    "        config(\"spark.executor.memory\", \"512m\").\\\n",
    "        getOrCreate()"
   ]
  },
  {
   "cell_type": "code",
   "execution_count": 4,
   "metadata": {},
   "outputs": [],
   "source": [
    "sc = spark.sparkContext"
   ]
  },
  {
   "cell_type": "code",
   "execution_count": 5,
   "metadata": {},
   "outputs": [],
   "source": [
    "from pyspark.sql import Row"
   ]
  },
  {
   "cell_type": "code",
   "execution_count": 6,
   "metadata": {},
   "outputs": [],
   "source": [
    "Funcionario = Row('PrimNome', 'UltNome', 'email', 'salario')"
   ]
  },
  {
   "cell_type": "code",
   "execution_count": 7,
   "metadata": {},
   "outputs": [],
   "source": [
    "func1 = Funcionario('Fernando', 'Anselmo', 'fanselmo@empresa.co', 10200)\n",
    "func2 = Funcionario('Alberto', 'Nunes', 'alberton@empresa.co', 8700)\n",
    "func3 = Funcionario('Josivan', 'Samuel', 'joans@empresa.co', 5300)\n",
    "func4 = Funcionario('Rose', 'Sobral', 'rosas@empresa.co', 8400)\n",
    "func5 = Funcionario('Priscila', 'Lira', 'plira@empresa.co', 9500)"
   ]
  },
  {
   "cell_type": "code",
   "execution_count": 8,
   "metadata": {},
   "outputs": [
    {
     "name": "stdout",
     "output_type": "stream",
     "text": [
      "Row(PrimNome='Rose', UltNome='Sobral', email='rosas@empresa.co', salario=8400) <class 'pyspark.sql.types.Row'>\n"
     ]
    }
   ],
   "source": [
    "print(func4, type(func4))"
   ]
  },
  {
   "cell_type": "code",
   "execution_count": 8,
   "metadata": {},
   "outputs": [
    {
     "name": "stdout",
     "output_type": "stream",
     "text": [
      "UltNome\n"
     ]
    }
   ],
   "source": [
    "print(Funcionario[1])"
   ]
  },
  {
   "cell_type": "code",
   "execution_count": 9,
   "metadata": {},
   "outputs": [],
   "source": [
    "Departamento = Row('Nome', 'ativo', 'tipo')"
   ]
  },
  {
   "cell_type": "code",
   "execution_count": 10,
   "metadata": {},
   "outputs": [],
   "source": [
    "depTI = Departamento('TI', True, 'Tecnologia')\n",
    "depGT = Departamento('GT', True, 'Gestão')\n",
    "depRH = Departamento('RH', True, 'Gestão')"
   ]
  },
  {
   "cell_type": "code",
   "execution_count": 11,
   "metadata": {},
   "outputs": [
    {
     "name": "stdout",
     "output_type": "stream",
     "text": [
      "Row(Nome='GT', ativo=True, tipo='Gestão')\n"
     ]
    }
   ],
   "source": [
    "print(depGT)"
   ]
  },
  {
   "cell_type": "code",
   "execution_count": 12,
   "metadata": {},
   "outputs": [],
   "source": [
    "depComFuncTI = Row(departamento=depTI, funcionarios=[func1, func2, func5])\n",
    "depComFuncGT = Row(departamento=depGT, funcionarios=[func1, func4])\n",
    "depComFuncRH = Row(departamento=depRH, funcionarios=[func3, func2])"
   ]
  },
  {
   "cell_type": "code",
   "execution_count": 13,
   "metadata": {},
   "outputs": [
    {
     "name": "stdout",
     "output_type": "stream",
     "text": [
      "Row(departamento=Row(Nome='TI', ativo=True, tipo='Tecnologia'), funcionarios=[Row(PrimNome='Fernando', UltNome='Anselmo', email='fanselmo@empresa.co', salario=10200), Row(PrimNome='Alberto', UltNome='Nunes', email='alberton@empresa.co', salario=8700), Row(PrimNome='Priscila', UltNome='Lira', email='plira@empresa.co', salario=9500)])\n"
     ]
    }
   ],
   "source": [
    "print(depComFuncTI)"
   ]
  },
  {
   "cell_type": "code",
   "execution_count": 14,
   "metadata": {},
   "outputs": [],
   "source": [
    "dframe = spark.createDataFrame([depComFuncTI, depComFuncGT, depComFuncRH])"
   ]
  },
  {
   "cell_type": "code",
   "execution_count": 17,
   "metadata": {},
   "outputs": [
    {
     "name": "stdout",
     "output_type": "stream",
     "text": [
      "+--------------------+--------------------+\n",
      "|        departamento|        funcionarios|\n",
      "+--------------------+--------------------+\n",
      "|[TI, true, Tecnol...|[[Fernando, Ansel...|\n",
      "|  [GT, true, Gestão]|[[Fernando, Ansel...|\n",
      "|  [RH, true, Gestão]|[[Josivan, Samuel...|\n",
      "+--------------------+--------------------+\n",
      "\n"
     ]
    }
   ],
   "source": [
    "dframe.show()"
   ]
  },
  {
   "cell_type": "code",
   "execution_count": 16,
   "metadata": {},
   "outputs": [
    {
     "data": {
      "text/plain": [
       "pyspark.sql.dataframe.DataFrame"
      ]
     },
     "execution_count": 16,
     "metadata": {},
     "output_type": "execute_result"
    }
   ],
   "source": [
    "type(dframe)"
   ]
  },
  {
   "cell_type": "markdown",
   "metadata": {},
   "source": [
    "## Fifa 2021"
   ]
  },
  {
   "cell_type": "code",
   "execution_count": 10,
   "metadata": {},
   "outputs": [],
   "source": [
    "fifa_df = spark.read.option(\"delimiter\", \";\").csv('FIFA-21.csv', inferSchema = True, header = True)"
   ]
  },
  {
   "cell_type": "code",
   "execution_count": 11,
   "metadata": {},
   "outputs": [
    {
     "name": "stdout",
     "output_type": "stream",
     "text": [
      "+---------+--------------------+-----------+--------+-------+---+----+---------+--------------------+\n",
      "|player_id|                name|nationality|position|overall|age|hits|potential|                team|\n",
      "+---------+--------------------+-----------+--------+-------+---+----+---------+--------------------+\n",
      "|   158023|        Lionel Messi|  Argentina|ST|CF|RW|     94| 33| 299|       94|       FC Barcelona |\n",
      "|    20801|   Cristiano Ronaldo|   Portugal|   ST|LW|     93| 35| 276|       93|           Juventus |\n",
      "|   190871|           Neymar Jr|     Brazil|  CAM|LW|     92| 28| 186|       92|Paris Saint-Germain |\n",
      "|   203376|     Virgil van Dijk|Netherlands|      CB|     91| 29| 127|       92|          Liverpool |\n",
      "|   200389|           Jan Oblak|   Slovenia|      GK|     91| 27|  47|       93|    Atlético Madrid |\n",
      "|   192985|     Kevin De Bruyne|    Belgium|  CM|CAM|     91| 29| 119|       91|    Manchester City |\n",
      "|   188545|  Robert Lewandowski|     Poland|      ST|     91| 31|  89|       91|  FC Bayern München |\n",
      "|   183277|         Eden Hazard|    Belgium|   ST|LW|     91| 29|  66|       91|        Real Madrid |\n",
      "|   212831|             Alisson|     Brazil|      GK|     90| 27|  53|       91|          Liverpool |\n",
      "|   209331|       Mohamed Salah|      Egypt|   ST|RW|     90| 28|  94|       90|          Liverpool |\n",
      "|   208722|          Sadio Mané|    Senegal|      LW|     90| 28|  76|       90|          Liverpool |\n",
      "|   192448|Marc-André ter St...|    Germany|      GK|     90| 28|  68|       93|       FC Barcelona |\n",
      "|   153079|       Sergio Agüero|  Argentina|      ST|     90| 32|  50|       90|    Manchester City |\n",
      "|   231747|       Kylian Mbappé|     France|ST|RW|LW|     89| 21| 222|       95|Paris Saint-Germain |\n",
      "|   215914|        N'Golo Kanté|     France|  CDM|CM|     89| 29|  75|       89|            Chelsea |\n",
      "|   202126|          Harry Kane|    England|      ST|     89| 27|  64|       91|  Tottenham Hotspur |\n",
      "|   194765|   Antoine Griezmann|     France|ST|CF|LW|     89| 29|  66|       89|       FC Barcelona |\n",
      "|   182521|          Toni Kroos|    Germany|      CM|     89| 30|  37|       89|        Real Madrid |\n",
      "|   177003|         Luka Modric|    Croatia|      CM|     89| 34|  31|       89|        Real Madrid |\n",
      "|   176580|         Luis Suárez|    Uruguay|      ST|     89| 33|  54|       89|       FC Barcelona |\n",
      "+---------+--------------------+-----------+--------+-------+---+----+---------+--------------------+\n",
      "only showing top 20 rows\n",
      "\n"
     ]
    }
   ],
   "source": [
    "fifa_df.show()"
   ]
  },
  {
   "cell_type": "code",
   "execution_count": 22,
   "metadata": {},
   "outputs": [
    {
     "name": "stdout",
     "output_type": "stream",
     "text": [
      "root\n",
      " |-- player_id: integer (nullable = true)\n",
      " |-- name: string (nullable = true)\n",
      " |-- nationality: string (nullable = true)\n",
      " |-- position: string (nullable = true)\n",
      " |-- overall: integer (nullable = true)\n",
      " |-- age: integer (nullable = true)\n",
      " |-- hits: integer (nullable = true)\n",
      " |-- potential: integer (nullable = true)\n",
      " |-- team: string (nullable = true)\n",
      "\n"
     ]
    }
   ],
   "source": [
    "fifa_df.printSchema()"
   ]
  },
  {
   "cell_type": "code",
   "execution_count": 23,
   "metadata": {},
   "outputs": [
    {
     "data": {
      "text/plain": [
       "['player_id',\n",
       " 'name',\n",
       " 'nationality',\n",
       " 'position',\n",
       " 'overall',\n",
       " 'age',\n",
       " 'hits',\n",
       " 'potential',\n",
       " 'team']"
      ]
     },
     "execution_count": 23,
     "metadata": {},
     "output_type": "execute_result"
    }
   ],
   "source": [
    "fifa_df.columns"
   ]
  },
  {
   "cell_type": "code",
   "execution_count": 24,
   "metadata": {},
   "outputs": [
    {
     "data": {
      "text/plain": [
       "17981"
      ]
     },
     "execution_count": 24,
     "metadata": {},
     "output_type": "execute_result"
    }
   ],
   "source": [
    "fifa_df.count()"
   ]
  },
  {
   "cell_type": "code",
   "execution_count": 25,
   "metadata": {},
   "outputs": [
    {
     "data": {
      "text/plain": [
       "9"
      ]
     },
     "execution_count": 25,
     "metadata": {},
     "output_type": "execute_result"
    }
   ],
   "source": [
    "len(fifa_df.columns)"
   ]
  },
  {
   "cell_type": "code",
   "execution_count": 26,
   "metadata": {},
   "outputs": [
    {
     "name": "stdout",
     "output_type": "stream",
     "text": [
      "+-------+------------------+--------------+-----------+--------+-----------------+------------------+------------------+-----------------+--------------------+\n",
      "|summary|         player_id|          name|nationality|position|          overall|               age|              hits|        potential|                team|\n",
      "+-------+------------------+--------------+-----------+--------+-----------------+------------------+------------------+-----------------+--------------------+\n",
      "|  count|             17981|         17981|      17981|   17981|            17981|             17981|             17981|            17981|               17981|\n",
      "|   mean|220912.66053056004|          null|       null|    null|67.27434514209443|26.311439853178356|2.6894499749735834| 71.7380568377732|                null|\n",
      "| stddev| 27738.07267112629|          null|       null|    null|5.924392251460603| 4.556077099099227|10.846286428609986|5.961968117355464|                null|\n",
      "|    min|                41|?tefan Baiaram|Afghanistan|     CAM|               56|                17|                 0|               57|1. FC Heidenheim ...|\n",
      "|    max|            256469| Šime Vrsaljko|     lbania|ST|RW|LW|               94|                43|               371|               95|      Östersunds FK |\n",
      "+-------+------------------+--------------+-----------+--------+-----------------+------------------+------------------+-----------------+--------------------+\n",
      "\n"
     ]
    }
   ],
   "source": [
    "fifa_df.describe().show()"
   ]
  },
  {
   "cell_type": "code",
   "execution_count": 27,
   "metadata": {},
   "outputs": [
    {
     "name": "stdout",
     "output_type": "stream",
     "text": [
      "+-------+-----------------+\n",
      "|summary|        potential|\n",
      "+-------+-----------------+\n",
      "|  count|            17981|\n",
      "|   mean| 71.7380568377732|\n",
      "| stddev|5.961968117355464|\n",
      "|    min|               57|\n",
      "|    max|               95|\n",
      "+-------+-----------------+\n",
      "\n"
     ]
    }
   ],
   "source": [
    "fifa_df.describe('potential').show()"
   ]
  },
  {
   "cell_type": "code",
   "execution_count": 28,
   "metadata": {},
   "outputs": [
    {
     "name": "stdout",
     "output_type": "stream",
     "text": [
      "+--------------------+-----------+\n",
      "|                name|nationality|\n",
      "+--------------------+-----------+\n",
      "|        Lionel Messi|  Argentina|\n",
      "|   Cristiano Ronaldo|   Portugal|\n",
      "|           Neymar Jr|     Brazil|\n",
      "|     Virgil van Dijk|Netherlands|\n",
      "|           Jan Oblak|   Slovenia|\n",
      "|     Kevin De Bruyne|    Belgium|\n",
      "|  Robert Lewandowski|     Poland|\n",
      "|         Eden Hazard|    Belgium|\n",
      "|             Alisson|     Brazil|\n",
      "|       Mohamed Salah|      Egypt|\n",
      "|          Sadio Mané|    Senegal|\n",
      "|Marc-André ter St...|    Germany|\n",
      "|       Sergio Agüero|  Argentina|\n",
      "|       Kylian Mbappé|     France|\n",
      "|        N'Golo Kanté|     France|\n",
      "|          Harry Kane|    England|\n",
      "|   Antoine Griezmann|     France|\n",
      "|          Toni Kroos|    Germany|\n",
      "|         Luka Modric|    Croatia|\n",
      "|         Luis Suárez|    Uruguay|\n",
      "+--------------------+-----------+\n",
      "only showing top 20 rows\n",
      "\n"
     ]
    }
   ],
   "source": [
    "fifa_df.select('name', 'nationality').show()"
   ]
  },
  {
   "cell_type": "code",
   "execution_count": 30,
   "metadata": {},
   "outputs": [
    {
     "name": "stdout",
     "output_type": "stream",
     "text": [
      "+---------+---------------+-----------+----------+-------+---+----+---------+--------------------+\n",
      "|player_id|           name|nationality|  position|overall|age|hits|potential|                team|\n",
      "+---------+---------------+-----------+----------+-------+---+----+---------+--------------------+\n",
      "|   190871|      Neymar Jr|     Brazil|    CAM|LW|     92| 28| 186|       92|Paris Saint-Germain |\n",
      "|   212831|        Alisson|     Brazil|        GK|     90| 27|  53|       91|          Liverpool |\n",
      "|   210257|        Ederson|     Brazil|        GK|     88| 26|  40|       91|    Manchester City |\n",
      "|   201942|Roberto Firmino|     Brazil|        CF|     88| 28|  79|       88|          Liverpool |\n",
      "|   200145|       Casemiro|     Brazil|       CDM|     88| 28|  37|       89|        Real Madrid |\n",
      "|   164240|   Thiago Silva|     Brazil|        CB|     87| 35|  28|       87|Paris Saint-Germain |\n",
      "|   209499|        Fabinho|     Brazil|       CDM|     86| 26|  44|       88|          Liverpool |\n",
      "|   207865|     Marquinhos|     Brazil|    CB|CDM|     86| 26|  48|       90|Paris Saint-Germain |\n",
      "|   230658|         Arthur|     Brazil|        CM|     85| 23|  64|       90|       FC Barcelona |\n",
      "|   189242|       Coutinho|     Brazil| CM|CAM|LW|     85| 28|  49|       85|  FC Bayern München |\n",
      "|   187961|       Paulinho|     Brazil|CDM|CM|CAM|     85| 32|  22|       85|Guangzhou Evergra...|\n",
      "|   135507|    Fernandinho|     Brazil|    CB|CDM|     85| 35|  14|       85|    Manchester City |\n",
      "|   212462|    Alex Telles|     Brazil|        LB|     84| 27|  42|       85|           FC Porto |\n",
      "|   207863|         Felipe|     Brazil|        CB|     84| 31|  19|       84|    Atlético Madrid |\n",
      "|   199914|          Allan|     Brazil|        CM|     84| 29|  13|       84|             Napoli |\n",
      "|   194404|           Neto|     Brazil|        GK|     84| 31|   7|       85|       FC Barcelona |\n",
      "|   191043|    Alex Sandro|     Brazil|     LB|LM|     84| 29|  18|       84|           Juventus |\n",
      "|   190483|  Douglas Costa|     Brazil|  LM|RW|LW|     84| 29|  24|       84|           Juventus |\n",
      "|   188152|          Oscar|     Brazil| CM|CAM|LW|     84| 28|  25|       84|   Shanghai SIPG FC |\n",
      "|   176676|        Marcelo|     Brazil|        LB|     84| 32|  22|       84|        Real Madrid |\n",
      "+---------+---------------+-----------+----------+-------+---+----+---------+--------------------+\n",
      "only showing top 20 rows\n",
      "\n"
     ]
    }
   ],
   "source": [
    "fifa_df.filter(fifa_df.nationality=='Brazil').show()"
   ]
  },
  {
   "cell_type": "code",
   "execution_count": 31,
   "metadata": {},
   "outputs": [
    {
     "data": {
      "text/plain": [
       "894"
      ]
     },
     "execution_count": 31,
     "metadata": {},
     "output_type": "execute_result"
    }
   ],
   "source": [
    "fifa_df.filter(fifa_df.nationality=='Brazil').count()"
   ]
  },
  {
   "cell_type": "code",
   "execution_count": 34,
   "metadata": {},
   "outputs": [
    {
     "data": {
      "text/plain": [
       "107"
      ]
     },
     "execution_count": 34,
     "metadata": {},
     "output_type": "execute_result"
    }
   ],
   "source": [
    "fifa_df.filter((fifa_df.nationality=='Brazil') & (fifa_df.potential > 80)).count()"
   ]
  },
  {
   "cell_type": "code",
   "execution_count": 55,
   "metadata": {},
   "outputs": [
    {
     "name": "stdout",
     "output_type": "stream",
     "text": [
      "+---------+--------------------+-----------+----------+-------+---+----+---------+--------------------+\n",
      "|player_id|                name|nationality|  position|overall|age|hits|potential|                team|\n",
      "+---------+--------------------+-----------+----------+-------+---+----+---------+--------------------+\n",
      "|   244175|         Hassan Amin|Afghanistan|        LB|     67| 28|   0|       67|          SV Meppen |\n",
      "|   243680|       Omran Haydary|Afghanistan|  ST|RM|LM|     63| 22|   0|       70|      Lechia Gdansk |\n",
      "|   201454|      Faouzi Ghoulam|    Algeria|        LB|     79| 29|   8|       79|             Napoli |\n",
      "|   235499|Djamel Eddine Ben...|    Algeria|    CB|CDM|     73| 30|   0|       73|          Al Shabab |\n",
      "|   224444|      Haris Belkebla|    Algeria|    CDM|CM|     73| 26|   1|       76|  Stade Brestois 29 |\n",
      "|   241167|      Youcef Belaïli|    Algeria|    LM|CAM|     72| 28|   0|       72|            Al Ahli |\n",
      "|   176772|   Alexandre Oukidja|    Algeria|        GK|     74| 32|   0|       74|Football Club de ...|\n",
      "|   206436|      Yassine Benzia|    Algeria| LM|CM|CAM|     72| 25|   8|       76|          Dijon FCO |\n",
      "|   201143|         Aïssa Mandi|    Algeria|        CB|     80| 28|  36|       81|         Real Betis |\n",
      "|   226356|       Mohamed Fares|    Algeria|  LB|LM|LW|     71| 24|   5|       77|               SPAL |\n",
      "|   213296|      Nabil Bentaleb|    Algeria|CDM|CM|CAM|     76| 25|   2|       80|   Newcastle United |\n",
      "|   210438|       Farid Boulaya|    Algeria|        RW|     72| 27|   1|       72|Football Club de ...|\n",
      "|   217699|       Islam Slimani|    Algeria|        ST|     78| 32|   9|       78|AS Monaco Footbal...|\n",
      "|   224196|     Ramy Bensebaini|    Algeria|     LB|CB|     77| 25|   4|       81|Borussia Möncheng...|\n",
      "|   186817|      Rafik Halliche|    Algeria|        CB|     72| 33|   0|       72|      Moreirense FC |\n",
      "|   220621|       Saïd Benrahma|    Algeria|  RM|RW|LW|     76| 24|  29|       81|          Brentford |\n",
      "|   240754|         Youcef Atal|    Algeria|     RB|RW|     78| 24|  39|       84|           OGC Nice |\n",
      "|   198962|        Raïs M'Bolhi|    Algeria|        GK|     71| 34|   2|       71|         Ettifaq FC |\n",
      "|   205295|      Hillal Soudani|    Algeria| ST|LM|CAM|     75| 32|   0|       75|     Olympiacos CFP |\n",
      "|   253157|     Hichem Boudaoui|    Algeria|     RM|CM|     70| 20|   2|       80|           OGC Nice |\n",
      "+---------+--------------------+-----------+----------+-------+---+----+---------+--------------------+\n",
      "only showing top 20 rows\n",
      "\n"
     ]
    }
   ],
   "source": [
    "fifa_df.orderBy(fifa_df.nationality).show()"
   ]
  },
  {
   "cell_type": "code",
   "execution_count": 13,
   "metadata": {},
   "outputs": [
    {
     "name": "stdout",
     "output_type": "stream",
     "text": [
      "+---------+----------------+-----------+----------+-------+---+----+---------+--------------------+\n",
      "|player_id|            name|nationality|  position|overall|age|hits|potential|                team|\n",
      "+---------+----------------+-----------+----------+-------+---+----+---------+--------------------+\n",
      "|   243680|   Omran Haydary|Afghanistan|  ST|RM|LM|     63| 22|   0|       70|      Lechia Gdansk |\n",
      "|   244175|     Hassan Amin|Afghanistan|        LB|     67| 28|   0|       67|          SV Meppen |\n",
      "|   204485|    Riyad Mahrez|    Algeria|     RM|RW|     86| 29|  40|       86|    Manchester City |\n",
      "|   240754|     Youcef Atal|    Algeria|     RB|RW|     78| 24|  39|       84|           OGC Nice |\n",
      "|   226754| Ismaël Bennacer|    Algeria|    CDM|CM|     74| 22|  51|       84|              Milan |\n",
      "|   220621|   Saïd Benrahma|    Algeria|  RM|RW|LW|     76| 24|  29|       81|          Brentford |\n",
      "|   201143|     Aïssa Mandi|    Algeria|        CB|     80| 28|  36|       81|         Real Betis |\n",
      "|   224196| Ramy Bensebaini|    Algeria|     LB|CB|     77| 25|   4|       81|Borussia Möncheng...|\n",
      "|   213296|  Nabil Bentaleb|    Algeria|CDM|CM|CAM|     76| 25|   2|       80|   Newcastle United |\n",
      "|   253157| Hichem Boudaoui|    Algeria|     RM|CM|     70| 20|   2|       80|           OGC Nice |\n",
      "|   193983|     Andy Delort|    Algeria|        ST|     79| 28|   2|       79|Montpellier Hérau...|\n",
      "|   184881|Sofiane Feghouli|    Algeria| RM|CAM|RW|     79| 30|   5|       79|     Galatasaray SK |\n",
      "|   231242|      Adam Ounas|    Algeria|  CF|RW|LW|     74| 23|  11|       79|           OGC Nice |\n",
      "|   252302|  Yasser Larouci|    Algeria|        LB|     60| 19|   4|       79|          Liverpool |\n",
      "|   201454|  Faouzi Ghoulam|    Algeria|        LB|     79| 29|   8|       79|             Napoli |\n",
      "|   217699|   Islam Slimani|    Algeria|        ST|     78| 32|   9|       78|AS Monaco Footbal...|\n",
      "|   194728|  Ishak Belfodil|    Algeria|        ST|     78| 28|   1|       78|TSG 1899 Hoffenheim |\n",
      "|   188388|  Ryad Boudebouz|    Algeria|    RM|CAM|     77| 30|   2|       77|   AS Saint-Étienne |\n",
      "|   226356|   Mohamed Fares|    Algeria|  LB|LM|LW|     71| 24|   5|       77|               SPAL |\n",
      "|   188600|     Mehdi Abeid|    Algeria|    CDM|CM|     74| 27|   0|       76|          FC Nantes |\n",
      "+---------+----------------+-----------+----------+-------+---+----+---------+--------------------+\n",
      "only showing top 20 rows\n",
      "\n"
     ]
    }
   ],
   "source": [
    "fifa_df.orderBy(fifa_df.nationality.asc(),fifa_df.potential.desc()).show()"
   ]
  },
  {
   "cell_type": "code",
   "execution_count": 56,
   "metadata": {},
   "outputs": [
    {
     "name": "stdout",
     "output_type": "stream",
     "text": [
      "+--------------+-----+\n",
      "|   nationality|count|\n",
      "+--------------+-----+\n",
      "|          Chad|    2|\n",
      "|        Russia|   73|\n",
      "|      Paraguay|  228|\n",
      "|Chinese Taipei|    1|\n",
      "|       Senegal|  123|\n",
      "|        Sweden|  275|\n",
      "|        Guyana|    6|\n",
      "|   Philippines|    3|\n",
      "|       Eritrea|    2|\n",
      "|        Turkey|  248|\n",
      "|        Malawi|    1|\n",
      "|          Iraq|    5|\n",
      "|       Germany| 1138|\n",
      "|St Kitts Nevis|    2|\n",
      "|       Comoros|   10|\n",
      "|   Afghanistan|    2|\n",
      "|   Ivory Coast|  106|\n",
      "|        Rwanda|    1|\n",
      "|        Jordan|    3|\n",
      "|         Sudan|    3|\n",
      "+--------------+-----+\n",
      "only showing top 20 rows\n",
      "\n"
     ]
    }
   ],
   "source": [
    "fifa_df.groupBy('nationality').count().show()"
   ]
  },
  {
   "cell_type": "markdown",
   "metadata": {},
   "source": [
    "### Quais países possuem o maior número de jogadores?"
   ]
  },
  {
   "cell_type": "code",
   "execution_count": 76,
   "metadata": {},
   "outputs": [],
   "source": [
    "from pyspark.sql.functions import desc\n",
    "nacionalidade = fifa_df.groupby('nationality').count().filter('count > 400').sort(desc('count'))\n",
    "nacionalidade.show()"
   ]
  },
  {
   "cell_type": "code",
   "execution_count": 14,
   "metadata": {},
   "outputs": [],
   "source": [
    "spark.sparkContext.stop()"
   ]
  },
  {
   "cell_type": "code",
   "execution_count": null,
   "metadata": {},
   "outputs": [],
   "source": []
  }
 ],
 "metadata": {
  "kernelspec": {
   "display_name": "Python 3",
   "language": "python",
   "name": "python3"
  },
  "language_info": {
   "codemirror_mode": {
    "name": "ipython",
    "version": 3
   },
   "file_extension": ".py",
   "mimetype": "text/x-python",
   "name": "python",
   "nbconvert_exporter": "python",
   "pygments_lexer": "ipython3",
   "version": "3.7.3"
  }
 },
 "nbformat": 4,
 "nbformat_minor": 4
}
