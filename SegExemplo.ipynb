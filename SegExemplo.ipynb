{
 "cells": [
  {
   "cell_type": "markdown",
   "metadata": {},
   "source": [
    "# Exemplo 02 - Mostrar Palavras"
   ]
  },
  {
   "cell_type": "code",
   "execution_count": 1,
   "metadata": {},
   "outputs": [],
   "source": [
    "from pyspark.sql import SparkSession"
   ]
  },
  {
   "cell_type": "code",
   "execution_count": 2,
   "metadata": {},
   "outputs": [],
   "source": [
    "spark = SparkSession.\\\n",
    "        builder.\\\n",
    "        appName(\"pyspark-notebook\").\\\n",
    "        master(\"spark://spark-master:7077\").\\\n",
    "        config(\"spark.executor.memory\", \"512m\").\\\n",
    "        getOrCreate()"
   ]
  },
  {
   "cell_type": "code",
   "execution_count": 3,
   "metadata": {},
   "outputs": [],
   "source": [
    "sc = spark.sparkContext"
   ]
  },
  {
   "cell_type": "code",
   "execution_count": 4,
   "metadata": {},
   "outputs": [
    {
     "data": {
      "text/plain": [
       "pyspark.rdd.RDD"
      ]
     },
     "execution_count": 4,
     "metadata": {},
     "output_type": "execute_result"
    }
   ],
   "source": [
    "# Ler arquivo texto\n",
    "file_in = sc.textFile('teste.txt')"
   ]
  },
  {
   "cell_type": "code",
   "execution_count": 5,
   "metadata": {},
   "outputs": [
    {
     "name": "stdout",
     "output_type": "stream",
     "text": [
      "Número de linhas no arquivo: 8\n"
     ]
    }
   ],
   "source": [
    "# Quantas linhas?\n",
    "print('Número de linhas no arquivo: %s' % file_in.count())"
   ]
  },
  {
   "cell_type": "code",
   "execution_count": 7,
   "metadata": {},
   "outputs": [],
   "source": [
    "# Adiciona o operador add\n",
    "from operator import add"
   ]
  },
  {
   "cell_type": "code",
   "execution_count": 8,
   "metadata": {},
   "outputs": [
    {
     "name": "stdout",
     "output_type": "stream",
     "text": [
      "Número de caracteres no arquivo: 516\n"
     ]
    }
   ],
   "source": [
    "# Contar quantos caracteres\n",
    "chars = file_in.map(lambda s: len(s)).reduce(add)\n",
    "print('Número de caracteres no arquivo: %s' % chars)"
   ]
  },
  {
   "cell_type": "code",
   "execution_count": 16,
   "metadata": {},
   "outputs": [],
   "source": [
    "# importar o módulo regex\n",
    "import re"
   ]
  },
  {
   "cell_type": "code",
   "execution_count": 17,
   "metadata": {},
   "outputs": [],
   "source": [
    "# Contar quantas palavras temos\n",
    "words = file_in.flatMap(lambda line: re.split('\\W+', line.lower().strip()))\n",
    "# Filtrar apenas as palavras que possuam mais de 3 caracteres\n",
    "words = words.filter(lambda x: len(x) > 3)\n",
    "# Fazer com que cada palavra tenha o valor 1\n",
    "words = words.map(lambda w: (w,1))\n",
    "# Reduzir para o total\n",
    "words = words.reduceByKey(add)"
   ]
  },
  {
   "cell_type": "code",
   "execution_count": 18,
   "metadata": {},
   "outputs": [
    {
     "data": {
      "text/plain": [
       "[('para', 7),\n",
       " ('dados', 2),\n",
       " ('alto', 1),\n",
       " ('como', 2),\n",
       " ('java', 1),\n",
       " ('scala', 1),\n",
       " ('python', 1),\n",
       " ('suporte', 1),\n",
       " ('gráficos', 1),\n",
       " ('execução', 1),\n",
       " ('excelente', 1),\n",
       " ('conjunto', 1),\n",
       " ('tais', 1),\n",
       " ('estruturados', 2),\n",
       " ('máquina', 1),\n",
       " ('gráfico', 1),\n",
       " ('streams', 1),\n",
       " ('incremental', 1),\n",
       " ('spark', 2),\n",
       " ('processamento', 4),\n",
       " ('mllib', 1),\n",
       " ('aprendizado', 1),\n",
       " ('graphx', 1),\n",
       " ('computação', 1),\n",
       " ('fluxo', 1),\n",
       " ('apache', 1),\n",
       " ('mecanismo', 2),\n",
       " ('análise', 1),\n",
       " ('unificado', 1),\n",
       " ('grande', 1),\n",
       " ('escala', 1),\n",
       " ('fornece', 1),\n",
       " ('apis', 1),\n",
       " ('linguagens', 1),\n",
       " ('nível', 1),\n",
       " ('permite', 1),\n",
       " ('otimizado', 1),\n",
       " ('geral', 1),\n",
       " ('possui', 1),\n",
       " ('ferramentas', 1)]"
      ]
     },
     "execution_count": 18,
     "metadata": {},
     "output_type": "execute_result"
    }
   ],
   "source": [
    "words.collect()"
   ]
  },
  {
   "cell_type": "code",
   "execution_count": 19,
   "metadata": {},
   "outputs": [
    {
     "data": {
      "text/plain": [
       "[(7, 'para'),\n",
       " (4, 'processamento'),\n",
       " (2, 'dados'),\n",
       " (2, 'como'),\n",
       " (2, 'estruturados'),\n",
       " (2, 'spark'),\n",
       " (2, 'mecanismo'),\n",
       " (1, 'mllib'),\n",
       " (1, 'aprendizado'),\n",
       " (1, 'graphx')]"
      ]
     },
     "execution_count": 19,
     "metadata": {},
     "output_type": "execute_result"
    }
   ],
   "source": [
    "# Criar uma tupla (count, word) e ordenar de forma ascendente\n",
    "wordsS = words.map(lambda x:(x[1],x[0])).sortByKey(False)\n",
    "# Pegar o Top 10\n",
    "wordsS.take(10)"
   ]
  },
  {
   "cell_type": "code",
   "execution_count": null,
   "metadata": {},
   "outputs": [],
   "source": [
    "!pip3 install matplotlib"
   ]
  },
  {
   "cell_type": "code",
   "execution_count": 20,
   "metadata": {},
   "outputs": [],
   "source": [
    "# Importar a biblioteca necessária\n",
    "import matplotlib.pyplot as plt\n",
    "%matplotlib inline"
   ]
  },
  {
   "cell_type": "code",
   "execution_count": 21,
   "metadata": {},
   "outputs": [],
   "source": [
    "# Criar uma função\n",
    "def histograma(words):\n",
    "    dados = dict(words)\n",
    "    y,x = zip(*sorted(zip(dados.values(),[str(i) for i in dados.keys()])))\n",
    "    plt.barh(x, y, color='g')"
   ]
  },
  {
   "cell_type": "code",
   "execution_count": 23,
   "metadata": {},
   "outputs": [
    {
     "data": {
      "text/plain": [
       "[('para', 7),\n",
       " ('processamento', 4),\n",
       " ('dados', 2),\n",
       " ('como', 2),\n",
       " ('estruturados', 2),\n",
       " ('spark', 2),\n",
       " ('mecanismo', 2),\n",
       " ('mllib', 1),\n",
       " ('aprendizado', 1),\n",
       " ('graphx', 1)]"
      ]
     },
     "execution_count": 23,
     "metadata": {},
     "output_type": "execute_result"
    }
   ],
   "source": [
    "# Mudar a ordem (valor, palavra) para (palavra, valor)\n",
    "wordsF = wordsS.map(lambda x:(x[1], x[0]))\n",
    "wordsF.take(10)"
   ]
  },
  {
   "cell_type": "code",
   "execution_count": 24,
   "metadata": {},
   "outputs": [
    {
     "data": {
      "image/png": "[encoded data removed]",
      "text/plain": [
       "<Figure size 432x288 with 1 Axes>"
      ]
     },
     "metadata": {
      "needs_background": "light"
     },
     "output_type": "display_data"
    }
   ],
   "source": [
    "histograma(wordsF.take(10))"
   ]
  },
  {
   "cell_type": "code",
   "execution_count": 25,
   "metadata": {},
   "outputs": [],
   "source": [
    "spark.sparkContext.stop()"
   ]
  },
  {
   "cell_type": "code",
   "execution_count": null,
   "metadata": {},
   "outputs": [],
   "source": []
  }
 ],
 "metadata": {
  "kernelspec": {
   "display_name": "Python 3",
   "language": "python",
   "name": "python3"
  },
  "language_info": {
   "codemirror_mode": {
    "name": "ipython",
    "version": 3
   },
   "file_extension": ".py",
   "mimetype": "text/x-python",
   "name": "python",
   "nbconvert_exporter": "python",
   "pygments_lexer": "ipython3",
   "version": "3.7.3"
  }
 },
 "nbformat": 4,
 "nbformat_minor": 4
}
